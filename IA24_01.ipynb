{
  "cells": [
    {
      "cell_type": "markdown",
      "source": [
        "# **Introdução**\n",
        "\n",
        "Este trabalho foi desenvolvido no âmbito da unidade curricular de Inteligência artificial, com o objetivo de resolver um problema de planeamento de tarefas utilizando algoritmos de inteligência artificial.\n",
        "O projeto foi realizado em equipa pelo grupo L01, composto pelos seguintes elementos:\n",
        "\n",
        "*   Fábio Miranda    (26003)\n",
        "*   Daniela Pereira    (26988)\n",
        "*   Gonçalo Costa    (26024)\n",
        "\n",
        "Para implementar a solução, optámos por utilizar a ferramenta Google Colab, devido à sua versatilidade e integração com bibliotecas de pesquisa de soluções.\n",
        "\n",
        "O objetivo geral é desenvolver uma solução capaz de programar todas as tarefas de um projeto, minimizando atrasos e otimizando a alocação de recursos, garantindo a execução eficiente no menor tempo possível.\n",
        "\n",
        "### **Formulação do objetivo**\n",
        "O objetivo do trabalho é encontrar uma solução ótima para o planeamento de tarefas, considerando restrições e diferentes formas de execução. Os principais objetivos englobam:\n",
        "\n",
        "Minimizar atrasos no projeto.\n",
        "Utilizar eficientemente os recursos disponíveis.\n",
        "Obter a solução com a pontuação mais elevada dentro de um período de tempo pré-determinado.\n",
        "\n",
        "### **Limitações**\n",
        "As restrições consideradas no projeto são exclusivamente restrições fortes, ou seja, condições que precisam ser obrigatoriamente cumpridas para que a solução seja válida.\n",
        "Apenas uma implementação por vez pode ser avaliada, o que pode limitar a exploração de múltiplas soluções em paralelo.\n"
      ],
      "metadata": {
        "id": "4fsxrYrgsHeE"
      }
    },
    {
      "cell_type": "markdown",
      "source": [
        "#1. **Analise do ficheiro**"
      ],
      "metadata": {
        "id": "3-8FWQIxSICh"
      }
    },
    {
      "cell_type": "markdown",
      "metadata": {
        "id": "xbcFgEnwE1MN"
      },
      "source": [
        "Este código tem como objetivo processar um ficheiro de texto que contém informações sobre um conjunto de tarefas, nomeadamente as  durações,relações de precedência entre as tarefas, os recursos necessários para cada tarefa com a quantidade disponível de cada recurso.\n",
        "\n",
        "Ele organiza estas informações em estruturas de dados como dicionários e listas para facilitar o acesso dos dados.\n",
        "\n",
        "O processo de leitura do ficheiro é feito linha por linha, identificando diferentes seções do ficheiro com base em palavras-chave que indicam o início de cada seção, como \"#Precedence relations\", \"#Duration and resources\" e \"#Resource availability\".\n",
        "\n",
        "Conforme o código lê cada linha, ele altera a sua ação para processar corretamente as informações da secção correspondente.\n",
        "\n",
        "</br>\n",
        "\n",
        "---\n",
        "\n",
        "##1.   **Relações de precedência:**\n",
        "O código extrai e armazena, para cada tarefa, informações sobre os trabalhos que devem ser realizados antes dela (sucessores), organizando-as num dicionário.\n",
        "\n",
        "</br>\n",
        "\n",
        "---\n",
        "\n",
        "##2.   **Durações e recursos:**\n",
        "Para cada tarefa, o código guarda a sua duração e os recursos necessários para completá-la. Ele também associa cada recurso ao seu respectivo custo para a tarefa.\n",
        "\n",
        "</br>\n",
        "\n",
        "---\n",
        "\n",
        "##3. **Disponibilidade de recursos:**\n",
        "O código também armazena a quantidade disponível de cada recurso, o que permite uma análise de alocação posterior.\n",
        "\n",
        "\n",
        "---\n",
        "\n",
        "</br>\n",
        "\n",
        "Além disso, o código também processa uma secção para recursos auxiliares, que fornece informações sobre tipos de recursos, suas quantidades e nomes.\n",
        "\n",
        "\n",
        "No final, a função retorna a duração total do projeto (horizon) e os dados organizados sobre as relações de precedência, as durações dos trabalhos, os recursos necessários e a disponibilidade dos recursos."
      ]
    },
    {
      "cell_type": "code",
      "execution_count": null,
      "metadata": {
        "id": "isdqXm7rR0i_"
      },
      "outputs": [],
      "source": [
        "def process_file(filename):\n",
        "    precedence_relations = {}\n",
        "    requests_durations = {}\n",
        "    aux_resources = {\"resources\": []}  # Inicializando a lista de recursos\n",
        "    resource_availabilities = {}\n",
        "    current_section = None\n",
        "\n",
        "    with open(filename, 'r') as file:\n",
        "        for line in file:\n",
        "            line = line.strip()\n",
        "\n",
        "            # Identificando as seções e mudando o contexto\n",
        "            if line.startswith(\"#Precedence relations\"):\n",
        "                current_section = \"precedence_relations\"\n",
        "                next(file)\n",
        "                continue\n",
        "            elif line.startswith(\"#Duration and resources\"):\n",
        "                current_section = \"requests_durations\"\n",
        "                continue\n",
        "            elif line.startswith(\"#Resource availability\"):\n",
        "                current_section = \"resource_availabilities\"\n",
        "                next(file)\n",
        "                continue\n",
        "            elif line.startswith(\"************************************************************************\"):\n",
        "                current_section = None\n",
        "                continue\n",
        "            elif line.startswith(\"horizon\"):\n",
        "                horizon = int(line.split()[len(line.split())-1])\n",
        "                next(file)\n",
        "                continue\n",
        "            elif line.startswith(\"RESOURCES\"):\n",
        "                continue  # Ignorar a linha \"RESOURCES\"\n",
        "            elif line.startswith(\"#Projects summary\"):\n",
        "                continue  # Ignorar a linha \"#Projects summary\"\n",
        "\n",
        "            # Processamento da seção de relações de precedência\n",
        "            if current_section == \"precedence_relations\":\n",
        "                parts = line.split()\n",
        "                if len(parts) >= 4:\n",
        "                    jobnr = parts[0]\n",
        "                    modes = int(parts[1])\n",
        "                    successors_count = int(parts[2])\n",
        "                    successors = parts[3:]\n",
        "                    precedence_relations[jobnr] = {\n",
        "                        \"#modes\": modes,\n",
        "                        \"#successors\": successors_count,\n",
        "                        \"successors\": successors\n",
        "                    }\n",
        "\n",
        "            # Processamento da seção de durações e recursos\n",
        "            elif current_section == \"requests_durations\":\n",
        "                parts = line.split()\n",
        "\n",
        "                # Recolhe o nome dos recursos dos trabalhos\n",
        "                if line.startswith(\"#jobnr.\") and len(parts) > 3:\n",
        "                    aux_resources[\"resources\"] = parts[3:]\n",
        "                    continue\n",
        "\n",
        "                # Agora processa os trabalhos, associando recursos a cada trabalho\n",
        "                if len(parts) >= 4:\n",
        "                    jobnr = parts[0]\n",
        "                    mode = parts[1]\n",
        "                    duration = int(parts[2])\n",
        "                    resources = parts[3:]  # Listagem dos custos dos recursos para este trabalho\n",
        "                    requests_durations[jobnr] = {\n",
        "                        \"mode\": mode,\n",
        "                        \"duration\": duration,\n",
        "                        \"resources\": {}\n",
        "                    }\n",
        "\n",
        "                    # Associa cada recurso ao custo correspondente\n",
        "                    for r, cost in zip(aux_resources[\"resources\"], resources):\n",
        "                        requests_durations[jobnr][\"resources\"][r] = int(cost)\n",
        "\n",
        "            # Processamento da seção de disponibilidade de recursos\n",
        "            elif current_section == \"resource_availabilities\":\n",
        "                parts = line.split()\n",
        "                if len(parts) == 2 and parts[0].startswith(\"R\"):  # Considerando que os recursos começam com \"R\"\n",
        "                    resource_name = parts[0]\n",
        "                    resource_qty = int(parts[1])\n",
        "                    resource_availabilities[resource_name] = resource_qty\n",
        "\n",
        "            # Processamento dos recursos auxiliares (quando estão listados sob RESOURCES)\n",
        "            elif line.startswith(\"  -\"):\n",
        "                parts = line.split(\":\")\n",
        "                resource_type = parts[0].strip()  # Tipo de recurso (renewable, nonrenewable, etc.)\n",
        "                resource_qty = int(parts[1].split()[0])  # Quantidade de recursos\n",
        "                resource_name = parts[1].split()[1]  # Nome do recurso (R, N, D, etc.)\n",
        "                aux_resources[\"resources\"].append(resource_name)\n",
        "\n",
        "    return horizon, precedence_relations, requests_durations, resource_availabilities\n",
        "\n"
      ]
    },
    {
      "cell_type": "markdown",
      "metadata": {
        "id": "mIvsu0gBlTWF"
      },
      "source": [
        "## 1.2 **Publicação de um ficheiro**\n",
        "Aqui o utilizador poderá publicar um ficheiro para que possa ser lido.\n"
      ]
    },
    {
      "cell_type": "code",
      "execution_count": null,
      "metadata": {
        "colab": {
          "base_uri": "https://localhost:8080/",
          "height": 88
        },
        "id": "ecBeTWc_kPIN",
        "outputId": "0096ec0e-3e48-434c-cf7a-9cbfa4f0e833"
      },
      "outputs": [
        {
          "output_type": "display_data",
          "data": {
            "text/plain": [
              "<IPython.core.display.HTML object>"
            ],
            "text/html": [
              "\n",
              "     <input type=\"file\" id=\"files-c38a6739-b652-48b2-a9e4-18f85b35899f\" name=\"files[]\" multiple disabled\n",
              "        style=\"border:none\" />\n",
              "     <output id=\"result-c38a6739-b652-48b2-a9e4-18f85b35899f\">\n",
              "      Upload widget is only available when the cell has been executed in the\n",
              "      current browser session. Please rerun this cell to enable.\n",
              "      </output>\n",
              "      <script>// Copyright 2017 Google LLC\n",
              "//\n",
              "// Licensed under the Apache License, Version 2.0 (the \"License\");\n",
              "// you may not use this file except in compliance with the License.\n",
              "// You may obtain a copy of the License at\n",
              "//\n",
              "//      http://www.apache.org/licenses/LICENSE-2.0\n",
              "//\n",
              "// Unless required by applicable law or agreed to in writing, software\n",
              "// distributed under the License is distributed on an \"AS IS\" BASIS,\n",
              "// WITHOUT WARRANTIES OR CONDITIONS OF ANY KIND, either express or implied.\n",
              "// See the License for the specific language governing permissions and\n",
              "// limitations under the License.\n",
              "\n",
              "/**\n",
              " * @fileoverview Helpers for google.colab Python module.\n",
              " */\n",
              "(function(scope) {\n",
              "function span(text, styleAttributes = {}) {\n",
              "  const element = document.createElement('span');\n",
              "  element.textContent = text;\n",
              "  for (const key of Object.keys(styleAttributes)) {\n",
              "    element.style[key] = styleAttributes[key];\n",
              "  }\n",
              "  return element;\n",
              "}\n",
              "\n",
              "// Max number of bytes which will be uploaded at a time.\n",
              "const MAX_PAYLOAD_SIZE = 100 * 1024;\n",
              "\n",
              "function _uploadFiles(inputId, outputId) {\n",
              "  const steps = uploadFilesStep(inputId, outputId);\n",
              "  const outputElement = document.getElementById(outputId);\n",
              "  // Cache steps on the outputElement to make it available for the next call\n",
              "  // to uploadFilesContinue from Python.\n",
              "  outputElement.steps = steps;\n",
              "\n",
              "  return _uploadFilesContinue(outputId);\n",
              "}\n",
              "\n",
              "// This is roughly an async generator (not supported in the browser yet),\n",
              "// where there are multiple asynchronous steps and the Python side is going\n",
              "// to poll for completion of each step.\n",
              "// This uses a Promise to block the python side on completion of each step,\n",
              "// then passes the result of the previous step as the input to the next step.\n",
              "function _uploadFilesContinue(outputId) {\n",
              "  const outputElement = document.getElementById(outputId);\n",
              "  const steps = outputElement.steps;\n",
              "\n",
              "  const next = steps.next(outputElement.lastPromiseValue);\n",
              "  return Promise.resolve(next.value.promise).then((value) => {\n",
              "    // Cache the last promise value to make it available to the next\n",
              "    // step of the generator.\n",
              "    outputElement.lastPromiseValue = value;\n",
              "    return next.value.response;\n",
              "  });\n",
              "}\n",
              "\n",
              "/**\n",
              " * Generator function which is called between each async step of the upload\n",
              " * process.\n",
              " * @param {string} inputId Element ID of the input file picker element.\n",
              " * @param {string} outputId Element ID of the output display.\n",
              " * @return {!Iterable<!Object>} Iterable of next steps.\n",
              " */\n",
              "function* uploadFilesStep(inputId, outputId) {\n",
              "  const inputElement = document.getElementById(inputId);\n",
              "  inputElement.disabled = false;\n",
              "\n",
              "  const outputElement = document.getElementById(outputId);\n",
              "  outputElement.innerHTML = '';\n",
              "\n",
              "  const pickedPromise = new Promise((resolve) => {\n",
              "    inputElement.addEventListener('change', (e) => {\n",
              "      resolve(e.target.files);\n",
              "    });\n",
              "  });\n",
              "\n",
              "  const cancel = document.createElement('button');\n",
              "  inputElement.parentElement.appendChild(cancel);\n",
              "  cancel.textContent = 'Cancel upload';\n",
              "  const cancelPromise = new Promise((resolve) => {\n",
              "    cancel.onclick = () => {\n",
              "      resolve(null);\n",
              "    };\n",
              "  });\n",
              "\n",
              "  // Wait for the user to pick the files.\n",
              "  const files = yield {\n",
              "    promise: Promise.race([pickedPromise, cancelPromise]),\n",
              "    response: {\n",
              "      action: 'starting',\n",
              "    }\n",
              "  };\n",
              "\n",
              "  cancel.remove();\n",
              "\n",
              "  // Disable the input element since further picks are not allowed.\n",
              "  inputElement.disabled = true;\n",
              "\n",
              "  if (!files) {\n",
              "    return {\n",
              "      response: {\n",
              "        action: 'complete',\n",
              "      }\n",
              "    };\n",
              "  }\n",
              "\n",
              "  for (const file of files) {\n",
              "    const li = document.createElement('li');\n",
              "    li.append(span(file.name, {fontWeight: 'bold'}));\n",
              "    li.append(span(\n",
              "        `(${file.type || 'n/a'}) - ${file.size} bytes, ` +\n",
              "        `last modified: ${\n",
              "            file.lastModifiedDate ? file.lastModifiedDate.toLocaleDateString() :\n",
              "                                    'n/a'} - `));\n",
              "    const percent = span('0% done');\n",
              "    li.appendChild(percent);\n",
              "\n",
              "    outputElement.appendChild(li);\n",
              "\n",
              "    const fileDataPromise = new Promise((resolve) => {\n",
              "      const reader = new FileReader();\n",
              "      reader.onload = (e) => {\n",
              "        resolve(e.target.result);\n",
              "      };\n",
              "      reader.readAsArrayBuffer(file);\n",
              "    });\n",
              "    // Wait for the data to be ready.\n",
              "    let fileData = yield {\n",
              "      promise: fileDataPromise,\n",
              "      response: {\n",
              "        action: 'continue',\n",
              "      }\n",
              "    };\n",
              "\n",
              "    // Use a chunked sending to avoid message size limits. See b/62115660.\n",
              "    let position = 0;\n",
              "    do {\n",
              "      const length = Math.min(fileData.byteLength - position, MAX_PAYLOAD_SIZE);\n",
              "      const chunk = new Uint8Array(fileData, position, length);\n",
              "      position += length;\n",
              "\n",
              "      const base64 = btoa(String.fromCharCode.apply(null, chunk));\n",
              "      yield {\n",
              "        response: {\n",
              "          action: 'append',\n",
              "          file: file.name,\n",
              "          data: base64,\n",
              "        },\n",
              "      };\n",
              "\n",
              "      let percentDone = fileData.byteLength === 0 ?\n",
              "          100 :\n",
              "          Math.round((position / fileData.byteLength) * 100);\n",
              "      percent.textContent = `${percentDone}% done`;\n",
              "\n",
              "    } while (position < fileData.byteLength);\n",
              "  }\n",
              "\n",
              "  // All done.\n",
              "  yield {\n",
              "    response: {\n",
              "      action: 'complete',\n",
              "    }\n",
              "  };\n",
              "}\n",
              "\n",
              "scope.google = scope.google || {};\n",
              "scope.google.colab = scope.google.colab || {};\n",
              "scope.google.colab._files = {\n",
              "  _uploadFiles,\n",
              "  _uploadFilesContinue,\n",
              "};\n",
              "})(self);\n",
              "</script> "
            ]
          },
          "metadata": {}
        },
        {
          "output_type": "stream",
          "name": "stdout",
          "text": [
            "Saving p01_dataset_10.txt to p01_dataset_10.txt\n",
            "User uploaded file \"p01_dataset_10.txt\" with length 1822 bytes\n"
          ]
        }
      ],
      "source": [
        "from google.colab import files\n",
        "\n",
        "uploaded = files.upload()\n",
        "\n",
        "for fn in uploaded.keys():\n",
        "   print('User uploaded file \"{name}\" with length {length} bytes'.format(\n",
        "       name=fn, length=len(uploaded[fn])))\n"
      ]
    },
    {
      "cell_type": "markdown",
      "metadata": {
        "id": "aQ8gfDbYk0rL"
      },
      "source": [
        "## 1.3 **Leitura do ficheiro**\n",
        "Depois de publicar, é chamado a função anterior e mostrado na saída da célula a estrutura de dados."
      ]
    },
    {
      "cell_type": "code",
      "execution_count": null,
      "metadata": {
        "colab": {
          "base_uri": "https://localhost:8080/"
        },
        "id": "1euHvyxTk0_z",
        "outputId": "4510709d-74f7-410d-8261-f1a486f10a68"
      },
      "outputs": [
        {
          "output_type": "stream",
          "name": "stdout",
          "text": [
            "Horizon:\n",
            "46\n",
            "\n",
            "Precedence Relations:\n",
            "{'1': {'#modes': 1, '#successors': 3, 'successors': ['2', '3', '4']}, '2': {'#modes': 3, '#successors': 2, 'successors': ['5', '6']}, '3': {'#modes': 3, '#successors': 2, 'successors': ['10', '11']}, '4': {'#modes': 3, '#successors': 1, 'successors': ['9']}, '5': {'#modes': 3, '#successors': 2, 'successors': ['7', '8']}, '6': {'#modes': 3, '#successors': 2, 'successors': ['10', '11']}, '7': {'#modes': 3, '#successors': 2, 'successors': ['9', '10']}, '8': {'#modes': 3, '#successors': 1, 'successors': ['9']}, '9': {'#modes': 3, '#successors': 1, 'successors': ['12']}, '10': {'#modes': 3, '#successors': 1, 'successors': ['12']}, '11': {'#modes': 3, '#successors': 1, 'successors': ['12']}}\n",
            "\n",
            "Requests/Durations:\n",
            "{'1': {'mode': '1', 'duration': 0, 'resources': {'R1': 0, 'R2': 0}}, '2': {'mode': '1', 'duration': 3, 'resources': {'R1': 6, 'R2': 2}}, '3': {'mode': '1', 'duration': 1, 'resources': {'R1': 0, 'R2': 0}}, '4': {'mode': '1', 'duration': 8, 'resources': {'R1': 4, 'R2': 0}}, '5': {'mode': '1', 'duration': 4, 'resources': {'R1': 0, 'R2': 4}}, '6': {'mode': '1', 'duration': 4, 'resources': {'R1': 0, 'R2': 4}}, '7': {'mode': '1', 'duration': 6, 'resources': {'R1': 2, 'R2': 0}}, '8': {'mode': '1', 'duration': 4, 'resources': {'R1': 4, 'R2': 2}}, '9': {'mode': '1', 'duration': 5, 'resources': {'R1': 3, 'R2': 0}}, '10': {'mode': '1', 'duration': 7, 'resources': {'R1': 2, 'R2': 1}}, '11': {'mode': '1', 'duration': 4, 'resources': {'R1': 0, 'R2': 3}}, '12': {'mode': '1', 'duration': 0, 'resources': {'R1': 0, 'R2': 0}}}\n",
            "\n",
            "Resource Availabilities:\n",
            "{'R1': 6, 'R2': 4}\n"
          ]
        }
      ],
      "source": [
        "nomeFicheiro = fn #ou coloque o nome de um dos ficheiros publicado\n",
        "horizon, precedence_relations, requests_durations, resource_availabilities = process_file(nomeFicheiro)\n",
        "\n",
        "print(\"Horizon:\")\n",
        "print(horizon)\n",
        "\n",
        "print(\"\\nPrecedence Relations:\")\n",
        "print(precedence_relations)\n",
        "\n",
        "print(\"\\nRequests/Durations:\")\n",
        "print(requests_durations)\n",
        "\n",
        "print(\"\\nResource Availabilities:\")\n",
        "print(resource_availabilities)\n"
      ]
    },
    {
      "cell_type": "markdown",
      "metadata": {
        "id": "6JcOW__YqCFZ"
      },
      "source": [
        "# 2. **Solução desenvolvida**"
      ]
    },
    {
      "cell_type": "markdown",
      "metadata": {
        "id": "2xWqN38ZGiMi"
      },
      "source": [
        "## 2.1 **Importar biblioteca necessária**\n"
      ]
    },
    {
      "cell_type": "markdown",
      "metadata": {
        "id": "UjHpHthdFxb7"
      },
      "source": [
        "Com a execução do comando abaixo, o objetivo é procurar e instalar a versão mais recente da biblioteca \"python-constraint\""
      ]
    },
    {
      "cell_type": "code",
      "execution_count": null,
      "metadata": {
        "colab": {
          "base_uri": "https://localhost:8080/"
        },
        "id": "1AeIfrCYhuaJ",
        "outputId": "386961e3-a094-4ebf-ec29-66166e6d810a"
      },
      "outputs": [
        {
          "output_type": "stream",
          "name": "stdout",
          "text": [
            "Collecting python-constraint\n",
            "  Downloading python-constraint-1.4.0.tar.bz2 (18 kB)\n",
            "  Preparing metadata (setup.py) ... \u001b[?25l\u001b[?25hdone\n",
            "Building wheels for collected packages: python-constraint\n",
            "  Building wheel for python-constraint (setup.py) ... \u001b[?25l\u001b[?25hdone\n",
            "  Created wheel for python-constraint: filename=python_constraint-1.4.0-py2.py3-none-any.whl size=24059 sha256=a27f295a46552d0a2db6f9169a17520395f85dd4ceba7e5006b687d4dd6e7494\n",
            "  Stored in directory: /root/.cache/pip/wheels/2e/f2/2b/cb08b5fe129e4f69b7033061f256e5c551b0aa1160c2872aee\n",
            "Successfully built python-constraint\n",
            "Installing collected packages: python-constraint\n",
            "Successfully installed python-constraint-1.4.0\n"
          ]
        }
      ],
      "source": [
        "pip install python-constraint"
      ]
    },
    {
      "cell_type": "markdown",
      "metadata": {
        "id": "2NibqztuGvJa"
      },
      "source": [
        "## 2.2 **Criação das variaveis e domínios**\n"
      ]
    },
    {
      "cell_type": "markdown",
      "metadata": {
        "id": "C9UzwDSPqk_x"
      },
      "source": [
        "### 2.2.1 **Inicialização**\n",
        "Aqui é inicializado a instância do problema e também é guardado o id dos trabalhos para que possam ser usadas como variáveis"
      ]
    },
    {
      "cell_type": "code",
      "execution_count": null,
      "metadata": {
        "id": "3RPkqREwqQjD"
      },
      "outputs": [],
      "source": [
        "from constraint import Problem, FunctionConstraint\n",
        "\n",
        "csp_problem = Problem()\n",
        "\n",
        "task_ids = list(requests_durations.keys())\n"
      ]
    },
    {
      "cell_type": "markdown",
      "metadata": {
        "id": "e-MvMYvNqV8A"
      },
      "source": [
        "### 2.2.2 **Cálculo da maior duração dos sucessores**\n",
        "Nesta seção, é realizada a leitura dos sucessores de cada trabalho, identificando a maior duração entre eles. Este valor é armazenado para determinar utilziar no cálculo do último dia possível de início dos trabalhos. Dessa forma, garante-se que, se um trabalho tiver sucessores, ele não seja iniciado num dia em que o tempo restante até o final seja insuficiente para a sua execução.\n",
        "\n",
        "Assim dividido em duas funções:\n",
        "\n",
        "**calculate_max_successor_duration:** esta função é responsável por calcular a maior duração de sucessores para todos os trabalhos.\n",
        "\n",
        "**calculate_max_successor:** esta função trata de calcular a maior duração específica de cada trabalho com base nos seus sucessores.\n"
      ]
    },
    {
      "cell_type": "code",
      "execution_count": null,
      "metadata": {
        "id": "2j2gXAloqVj1"
      },
      "outputs": [],
      "source": [
        "# Função para calcular a maior duração dos sucessores da tarefa\n",
        "def calculate_max_successor(sucessors):\n",
        "    max_sucessor = 0\n",
        "    for task in sucessors:\n",
        "        duration = requests_durations[task][\"duration\"]\n",
        "        if duration > max_sucessor:\n",
        "            max_sucessor = duration\n",
        "    return max_sucessor\n",
        "# Função para calcular a maior duração dos sucessores de todas as tarefas\n",
        "def calculate_max_successor_duration(task_ids):\n",
        "    max_sucessor_durations = {}\n",
        "    for task in task_ids:\n",
        "        if task in precedence_relations.keys():\n",
        "            max_sucessor = calculate_max_successor(precedence_relations[task][\"successors\"])\n",
        "            if max_sucessor > 0:\n",
        "                max_sucessor_durations[task] = max_sucessor\n",
        "    return max_sucessor_durations\n",
        "\n",
        "max_sucessor_durations = calculate_max_successor_duration(task_ids)"
      ]
    },
    {
      "cell_type": "markdown",
      "metadata": {
        "id": "DBzBdaFAtCQ6"
      },
      "source": [
        "### 2.2.3 **Cálculo da maior duração dos predecessores**\n",
        "Neste passo, é calculada a maior duração dos predecessores. Isso é importante porque, caso a tarefa tenha predecessores, ela não poderá iniciar antes de um dia que não permita a conclusão da tarefa anterior. Podendo assim, calcular o dia de inicio mínimo.\n",
        "\n",
        "Temos assim as seguintes funções:\n",
        "\n",
        "**find_predecessors**: Serve para encontrar os predecessores de uma função, verificando se pertence à chave *'successors'* de cada tarefa guardada.\n",
        "\n",
        "**calculate_max_predecessor_duration**: Calcula a maior duração dos predecessores, de todas as tarefas"
      ]
    },
    {
      "cell_type": "code",
      "execution_count": null,
      "metadata": {
        "id": "ckCVmSHGtCCX"
      },
      "outputs": [],
      "source": [
        "def find_predecessors(task_id):\n",
        "    predecessors = []\n",
        "    for predecessor, details in precedence_relations.items():\n",
        "        if task_id in details['successors']:\n",
        "            predecessors.append(predecessor)\n",
        "    return predecessors\n",
        "\n",
        "def calculate_max_predecessor_duration(task_ids):\n",
        "    max_durations = {}\n",
        "    for task_id in task_ids:\n",
        "        predecessors = find_predecessors(task_id)\n",
        "        if predecessors:\n",
        "            max_duration = max(requests_durations[predecessor]['duration'] for predecessor in predecessors)\n",
        "            if max_duration > 0:\n",
        "                max_durations[task_id] = max_duration\n",
        "    return max_durations\n",
        "\n",
        "max_predecessor_durations = calculate_max_predecessor_duration(task_ids)"
      ]
    },
    {
      "cell_type": "markdown",
      "metadata": {
        "id": "9fW2V4o9tKM5"
      },
      "source": [
        "### 2.2.4 **Cálculo dos domínios**\n",
        "Com a função **calculate_domain** é calculado o domínio de cada taréfa, no qual, o inicio é o primeiro dia mais o maior predecessor e o final é o horizon menos a duração do trabalho e o maior sucessor."
      ]
    },
    {
      "cell_type": "code",
      "execution_count": null,
      "metadata": {
        "id": "V9XXqYMQtKmr"
      },
      "outputs": [],
      "source": [
        "def calculate_domain(task_id):\n",
        "    start = -1\n",
        "    end = horizon - requests_durations[task_id][\"duration\"]\n",
        "    if requests_durations[task_id][\"duration\"] == 0 and task_id in precedence_relations.keys():\n",
        "        domain = [0]\n",
        "        return domain\n",
        "    if task_id in max_predecessor_durations:\n",
        "        start += max_predecessor_durations[task_id]\n",
        "    if task_id in max_sucessor_durations:\n",
        "        end -= max_sucessor_durations[task_id]\n",
        "    domain = list(range(end, start, -1))\n",
        "    return domain\n",
        "\n",
        "\n",
        "domains = {}\n",
        "\n",
        "for task_id in task_ids:\n",
        "    domains[task_id] = calculate_domain(task_id)"
      ]
    },
    {
      "cell_type": "markdown",
      "metadata": {
        "id": "Wg7OEAvltOIb"
      },
      "source": [
        "### 2.2.5 **Definição das tarefas e seus domínios**\n",
        "Primeiramente é organizado as tarefas com o intuíto de utilizar a heuristica minimum-remaining-values (MRV) que consiste escolher a variável com numeros menor de valores \"legais\".\n",
        "\n",
        "Após disso, é definido as variáveis e seus respetivos domínios"
      ]
    },
    {
      "cell_type": "code",
      "execution_count": null,
      "metadata": {
        "colab": {
          "base_uri": "https://localhost:8080/"
        },
        "id": "acBuMxWytOtB",
        "outputId": "2b731b31-1d01-4eff-d60a-34332948063e"
      },
      "outputs": [
        {
          "output_type": "stream",
          "name": "stdout",
          "text": [
            "1 -> [0]\n",
            "7 -> [33, 32, 31, 30, 29, 28, 27, 26, 25, 24, 23, 22, 21, 20, 19, 18, 17, 16, 15, 14, 13, 12, 11, 10, 9, 8, 7, 6, 5, 4]\n",
            "6 -> [35, 34, 33, 32, 31, 30, 29, 28, 27, 26, 25, 24, 23, 22, 21, 20, 19, 18, 17, 16, 15, 14, 13, 12, 11, 10, 9, 8, 7, 6, 5, 4, 3]\n",
            "4 -> [33, 32, 31, 30, 29, 28, 27, 26, 25, 24, 23, 22, 21, 20, 19, 18, 17, 16, 15, 14, 13, 12, 11, 10, 9, 8, 7, 6, 5, 4, 3, 2, 1, 0]\n",
            "5 -> [36, 35, 34, 33, 32, 31, 30, 29, 28, 27, 26, 25, 24, 23, 22, 21, 20, 19, 18, 17, 16, 15, 14, 13, 12, 11, 10, 9, 8, 7, 6, 5, 4, 3]\n",
            "8 -> [37, 36, 35, 34, 33, 32, 31, 30, 29, 28, 27, 26, 25, 24, 23, 22, 21, 20, 19, 18, 17, 16, 15, 14, 13, 12, 11, 10, 9, 8, 7, 6, 5, 4]\n",
            "9 -> [41, 40, 39, 38, 37, 36, 35, 34, 33, 32, 31, 30, 29, 28, 27, 26, 25, 24, 23, 22, 21, 20, 19, 18, 17, 16, 15, 14, 13, 12, 11, 10, 9, 8]\n",
            "10 -> [39, 38, 37, 36, 35, 34, 33, 32, 31, 30, 29, 28, 27, 26, 25, 24, 23, 22, 21, 20, 19, 18, 17, 16, 15, 14, 13, 12, 11, 10, 9, 8, 7, 6]\n",
            "3 -> [38, 37, 36, 35, 34, 33, 32, 31, 30, 29, 28, 27, 26, 25, 24, 23, 22, 21, 20, 19, 18, 17, 16, 15, 14, 13, 12, 11, 10, 9, 8, 7, 6, 5, 4, 3, 2, 1, 0]\n",
            "11 -> [42, 41, 40, 39, 38, 37, 36, 35, 34, 33, 32, 31, 30, 29, 28, 27, 26, 25, 24, 23, 22, 21, 20, 19, 18, 17, 16, 15, 14, 13, 12, 11, 10, 9, 8, 7, 6, 5, 4]\n",
            "2 -> [39, 38, 37, 36, 35, 34, 33, 32, 31, 30, 29, 28, 27, 26, 25, 24, 23, 22, 21, 20, 19, 18, 17, 16, 15, 14, 13, 12, 11, 10, 9, 8, 7, 6, 5, 4, 3, 2, 1, 0]\n",
            "12 -> [46, 45, 44, 43, 42, 41, 40, 39, 38, 37, 36, 35, 34, 33, 32, 31, 30, 29, 28, 27, 26, 25, 24, 23, 22, 21, 20, 19, 18, 17, 16, 15, 14, 13, 12, 11, 10, 9, 8, 7]\n"
          ]
        }
      ],
      "source": [
        "# heuristica MRV\n",
        "task_ids = sorted(task_ids, key=lambda task_id: len(domains[task_id]))\n",
        "\n",
        "for task_id in task_ids:  # ordered_task_ids\n",
        "    print(f\"{task_id} -> {domains[task_id]}\")\n",
        "    csp_problem.addVariable(task_id, domains[task_id])"
      ]
    },
    {
      "cell_type": "markdown",
      "metadata": {
        "id": "reiiMAYvwswb"
      },
      "source": [
        "#2.3 **Definição de restrições**"
      ]
    },
    {
      "cell_type": "markdown",
      "metadata": {
        "id": "diLtKvHEx37c"
      },
      "source": [
        "## 2.3.1 **Restrição dos sucessores**\n",
        "Esta função adiciona a restrição que, para cada trabalho nos 'successors' terão de iniciar depois deste acabar."
      ]
    },
    {
      "cell_type": "code",
      "execution_count": null,
      "metadata": {
        "id": "rlsdRyaWwtIB"
      },
      "outputs": [],
      "source": [
        "# Adicionando as restrições de precedência\n",
        "for pred, pred_data in precedence_relations.items():\n",
        "    # Verificar se a duração do predecessor não é 0\n",
        "    if requests_durations[pred][\"duration\"] > 0:\n",
        "        # Para cada tarefa predecessora 'pred', que tem sucessores\n",
        "      for succ in pred_data['successors']:\n",
        "            csp_problem.addConstraint(\n",
        "                lambda start_pred, start_succ, pred=pred, succ=succ: start_succ > start_pred + requests_durations[pred][\"duration\"] - 1,\n",
        "                [pred, succ]\n",
        "            )\n",
        "    else:\n",
        "       csp_problem.addConstraint(lambda x: x == 0, [pred])\n",
        "       for succ in pred_data['successors']:\n",
        "            csp_problem.addConstraint(\n",
        "                lambda start_pred, start_succ, pred=pred, succ=succ: start_succ > start_pred,\n",
        "                [pred, succ]\n",
        "            )"
      ]
    },
    {
      "cell_type": "markdown",
      "metadata": {
        "id": "l_erGeN4wt33"
      },
      "source": [
        "## 2.3.2 **Restrição do zero**\n",
        "Esta restrição permite verificar se existe alguma tarefa que inicie no dia 0, se não tiver, a tentativa é rejeitada.\n"
      ]
    },
    {
      "cell_type": "code",
      "execution_count": null,
      "metadata": {
        "id": "VJ7laTXxwteX"
      },
      "outputs": [],
      "source": [
        "# Função para garantir que ao menos uma tarefa comece no tempo 0\n",
        "def anyStartZero(*args):\n",
        "    if 0 in args:\n",
        "        return True\n",
        "    else:\n",
        "        return False\n",
        "\n",
        "csp_problem.addConstraint(FunctionConstraint(anyStartZero), task_ids)"
      ]
    },
    {
      "cell_type": "markdown",
      "metadata": {
        "id": "B8I8TeMLfRTF"
      },
      "source": [
        "## 2.3.3 **Restrição do trabalho final**\n",
        "Presente no dataset, temos uma tarefa que tem duração 0 e não tem sucessores, ou seja, corresponde ao marco final do projeto. Esta restrição faz com que todos os outros trabalhos não ocorram depois do final."
      ]
    },
    {
      "cell_type": "code",
      "execution_count": null,
      "metadata": {
        "id": "7NzzkrINfRuj"
      },
      "outputs": [],
      "source": [
        "for task in task_ids:\n",
        "    if requests_durations[task][\"duration\"] == 0 and task not in precedence_relations.keys():\n",
        "        for other_task in task_ids:\n",
        "            if task != other_task:\n",
        "              if requests_durations[other_task][\"duration\"] != 0 and other_task not in precedence_relations.keys():\n",
        "                  csp_problem.addConstraint(\n",
        "                      lambda start_task, start_zero_task, task=other_task: start_task + requests_durations[task][\"duration\"] - 1 < start_zero_task,\n",
        "                      [other_task, task]\n",
        "                  )\n"
      ]
    },
    {
      "cell_type": "markdown",
      "metadata": {
        "id": "uwG2D9EMwtUt"
      },
      "source": [
        "## 2.3.4 **Restrição dos recursos**\n",
        "\n",
        "Esta restrição verifica, para cada momento no tempo, quais tarefas estão ativas e calcula o uso total de cada recurso. Em seguida, compara esse uso com a capacidade dos recursos disponíveis. Se o uso de algum recurso ultrapassar sua capacidade em qualquer ponto no tempo, a função retorna ***False***. Caso contrário, retorna True, indicando que os recursos foram utilizados de forma adequada."
      ]
    },
    {
      "cell_type": "code",
      "execution_count": null,
      "metadata": {
        "id": "_UYETvuLwueB"
      },
      "outputs": [],
      "source": [
        "def resources_check(*args):\n",
        "    # Criamos um dicionário que mapeia a tarefa para seu tempo de início\n",
        "    active_tasks = {task_id: args[i] for i, task_id in enumerate(task_ids)}\n",
        "    # Para cada momento no tempo (de 0 até o horizonte ou data limite)\n",
        "    for time in range(horizon):\n",
        "        #inicialização do uso de recursos\n",
        "        resource_usage = {f'R{r+1}': 0 for r in range(len(resource_availabilities))}\n",
        "\n",
        "        # Para cada tarefa, verificamos se ela está ativa no tempo atual\n",
        "        for task_id, start_time in active_tasks.items():\n",
        "            task_duration = requests_durations[task_id][\"duration\"]\n",
        "\n",
        "            # Se a tarefa estiver ativa no tempo 'time'\n",
        "            if start_time <= time < start_time + task_duration:\n",
        "                # Para cada recurso da tarefa, adicionamos ao uso do recurso\n",
        "                for r in range(len(resource_availabilities)):\n",
        "                    resource_key = f'R{r+1}'\n",
        "                    task_req = requests_durations[task_id][\"resources\"].get(resource_key, 0)\n",
        "                    resource_usage[resource_key] += task_req\n",
        "\n",
        "        # Verificamos se algum recurso está sendo utilizado além da sua capacidade\n",
        "        if any(resource_usage[r] > resource_availabilities[r] for r in resource_usage):\n",
        "            return False\n",
        "\n",
        "    # Se a verificação passar para todos os tempos, retorna True\n",
        "    return True\n",
        "\n",
        "csp_problem.addConstraint(FunctionConstraint(resources_check), task_ids)"
      ]
    },
    {
      "cell_type": "markdown",
      "metadata": {
        "id": "yYk0DhVvyH-Z"
      },
      "source": [
        "#2.4 **Execução do problema**"
      ]
    },
    {
      "cell_type": "markdown",
      "metadata": {
        "id": "PaUtCZ88yISk"
      },
      "source": [
        "Após a formulação do problema, é executada a sua solução. Se a solução for encontrada, são apresentadas as datas de início e fim de cada tarefa. Além disso é pedido ao utilizador quantas soluções a mais quer que o codigo avalia, isto para ver se consegue encontrar uma solução melhor."
      ]
    },
    {
      "cell_type": "code",
      "execution_count": null,
      "metadata": {
        "colab": {
          "base_uri": "https://localhost:8080/"
        },
        "id": "val68YnmyIhA",
        "outputId": "f7b85097-7999-4c06-99d9-505587cbba67"
      },
      "outputs": [
        {
          "output_type": "stream",
          "name": "stdout",
          "text": [
            "Escolhe o numero maximo de soluções a encontrar: 0\n",
            "{'10': 14, '9': 16, '1': 0, '7': 8, '5': 4, '2': 1, '6': 8, '3': 13, '12': 21, '11': 16, '8': 12, '4': 4}\n",
            "Solução encontrada:\n",
            "Tarefa 1: Início em 0 | Fim em 0\n",
            "Tarefa 2: Início em 1 | Fim em 3\n",
            "Tarefa 5: Início em 4 | Fim em 7\n",
            "Tarefa 4: Início em 4 | Fim em 11\n",
            "Tarefa 7: Início em 8 | Fim em 13\n",
            "Tarefa 6: Início em 8 | Fim em 11\n",
            "Tarefa 8: Início em 12 | Fim em 15\n",
            "Tarefa 3: Início em 13 | Fim em 13\n",
            "Tarefa 10: Início em 14 | Fim em 20\n",
            "Tarefa 9: Início em 16 | Fim em 20\n",
            "Tarefa 11: Início em 16 | Fim em 19\n",
            "Tarefa 12: Início em 21 | Fim em 21\n",
            "=-==-==-==-==-==-==-==-==-==-==-==-==-==-==-==-==-==-==-==-=\n"
          ]
        }
      ],
      "source": [
        "def showSolution(task,start_time):\n",
        "          duration = requests_durations[task][\"duration\"]\n",
        "          if duration == 0:\n",
        "              print(f\"Tarefa {task}: Início em {start_time} | Fim em {start_time}\")\n",
        "          else:\n",
        "              end_time = start_time + duration - 1\n",
        "              print(f\"Tarefa {task}: Início em {start_time} | Fim em {end_time}\")\n",
        "\n",
        "def sumStartTimes():\n",
        "  sum = 0\n",
        "  for task, start_time in solution.items():\n",
        "    sum += start_time\n",
        "  return sum\n",
        "\n",
        "solutions = []\n",
        "max_attempts = int(input(\"Escolhe o numero maximo de soluções a encontrar: \"))\n",
        "attempts = 0\n",
        "solution = 1\n",
        "\n",
        "\n",
        "best_solution = csp_problem.getSolution()\n",
        "print(best_solution)\n",
        "if best_solution:\n",
        "    print(\"Solução encontrada:\")\n",
        "    for task, start_time in sorted(best_solution.items(), key=lambda x: x[1]):\n",
        "      showSolution(task,start_time)\n",
        "    solutions.append(best_solution)\n",
        "    print(\"=-=\"*20)\n",
        "    while solution and attempts < max_attempts:\n",
        "      solution = csp_problem.getSolution()\n",
        "      attempts += 1\n",
        "      if solution not in solutions:\n",
        "          if sumStartTimes(best_solution) < sumStartTimes():\n",
        "              best_solution = solution\n",
        "              solutions.append(solution)\n",
        "              print(\"=-=\"*20)\n",
        "              print(\"Nova solução encontrada:\")\n",
        "              for task, start_time in sorted(solution.items(), key=lambda x: x[1]):\n",
        "                showSolution(task,start_time)\n",
        "              print(\"=-=\"*20)\n",
        "else:\n",
        "    print(\"Nenhuma solução encontrada.\")\n"
      ]
    },
    {
      "cell_type": "markdown",
      "metadata": {
        "id": "DbN0xBjbG6Ht"
      },
      "source": [
        "#**Apresentar Gráficamente**"
      ]
    },
    {
      "cell_type": "markdown",
      "metadata": {
        "id": "cBRF3G7bHTA8"
      },
      "source": [
        "O seguinte código apresentado cria um gráfico de barras horizontais para visualizar um cronograma de tarefas, usando as bibliotecas Matplotlib e NumPy. A função **\"visualizar_cronograma_plot\"** recebe dois parâmetros:\n",
        "\n",
        "***solucao***: Um dicionário onde as chaves são identificadores de tarefas e os valores são os tempos de início dessas tarefas\n",
        "\n",
        "***duracoes***: Outro dicionário onde as chaves são as tarefas e os valores indicam a duração dessas tarefas.\n",
        "\n",
        "O código começa com a criação de três listas vazias: **\"tarefas\"**, **\"inicios\"** e **\"duracoes_list\"**, que serão preenchidas com os dados extraídos de ***solucao*** e ***duracoes***.\n",
        "\n",
        "Após isso, o código percorre o dicionário ***solucao***, ordenando as suas chaves e preenchendo as listas com os nomes das tarefas, os tempos de início e as durações correspondentes.\n",
        "\n",
        "Após a preparação dos dados, o gráfico é criado com a chamada de **\"plt.subplots()\"**, que gera uma figura e um eixo onde o gráfico será desenhado. As barras horizontais são desenhadas com a função **\"ax.barh()\"**, onde ***y_pos*** define a posição vertical das barras, ***duracoes_list*** determina o comprimento de cada barra e inicios define o ponto de início de cada barra.  \n",
        "\n",
        "Concluindo, o gráfico é exibido usando **\"plt.show()\"**. Quando a função é chamada com os parâmetros ***solution*** e ***requests_durations***, ela gera e exibe o cronograma das tarefas, mostrando quando cada tarefa começa e sua duração em um gráfico de barras horizontais"
      ]
    },
    {
      "cell_type": "code",
      "execution_count": null,
      "metadata": {
        "colab": {
          "base_uri": "https://localhost:8080/",
          "height": 607
        },
        "id": "fP-XNfej77Lb",
        "outputId": "286cf9db-a8bf-47cc-bdf7-4c18dfcf7f19"
      },
      "outputs": [
        {
          "output_type": "display_data",
          "data": {
            "text/plain": [
              "<Figure size 1200x600 with 1 Axes>"
            ],
            "image/png": "[encoded data removed]"
          },
          "metadata": {}
        }
      ],
      "source": [
        "import matplotlib.pyplot as plt\n",
        "import numpy as np\n",
        "\n",
        "def visualizar_cronograma_plot(solucao, duracoes):\n",
        "\n",
        "    # Preparar dados\n",
        "    tarefas = []\n",
        "    inicios = []\n",
        "    duracoes_list = []\n",
        "\n",
        "    for tarefa, inicio in sorted(solucao.items()):\n",
        "        tarefas.append(f\"Tarefa {tarefa}\")\n",
        "        inicios.append(int(inicio))\n",
        "        duracao = duracoes[tarefa][\"duration\"]\n",
        "\n",
        "        # Se a duração for 0, definimos a duração como 1 (para exibir apenas o início)\n",
        "        duracoes_list.append(duracao if duracao != 0 else 1)\n",
        "\n",
        "    # Criar figura\n",
        "    fig, ax = plt.subplots(figsize=(12, 6))\n",
        "\n",
        "    # Plotar barras\n",
        "    y_pos = np.arange(len(tarefas))\n",
        "    ax.barh(y_pos, duracoes_list, left=inicios, height=0.3)\n",
        "\n",
        "    # Personalizar gráfico\n",
        "    ax.set_yticks(y_pos)\n",
        "    ax.set_yticklabels(tarefas)\n",
        "    ax.set_xlabel('Dias')\n",
        "    ax.set_title('Solução Ótima Encontrada')\n",
        "\n",
        "    # Adicionar grid vertical\n",
        "    ax.grid(axis='x')\n",
        "\n",
        "    # Ajustar o intervalo das divisões no eixo X\n",
        "    ax.xaxis.set_major_locator(plt.MultipleLocator(1))  # Subdivisão em 1 (pode mudar para 0.5, 0.1, etc.)\n",
        "\n",
        "    # Ajustar layout\n",
        "    plt.tight_layout()\n",
        "    plt.show()\n",
        "\n",
        "# Exemplo de chamada\n",
        "visualizar_cronograma_plot(best_solution, requests_durations)\n"
      ]
    },
    {
      "cell_type": "markdown",
      "metadata": {
        "id": "TpuQlPduCh1b"
      },
      "source": [
        "#**Conclusão**"
      ]
    },
    {
      "cell_type": "markdown",
      "metadata": {
        "id": "59mxG8Z1bC9X"
      },
      "source": [
        "O desenvolvimento deste projeto foi uma experiência enriquecedora que permitiu explorar técnicas de inteligência artificial aplicadas ao planeamento de tarefas, com foco na minimização de atrasos e na otimização de recursos. A utilização do Google Colab desempenhou um papel essencial, viabilizando o trabalho colaborativo e a execução de algoritmos exigentes em termos computacionais.\n",
        "\n",
        "Os objetivos definidos foram alcançados com sucesso, resultando no desenvolvimento de um algoritmo capaz de gerar múltiplas soluções e identificar a solução ótima para cada cenário. Os resultados obtidos foram satisfatórios, evidenciando a eficácia das abordagens adotadas. No entanto, identificámos a necessidade de melhorias futuras, especialmente em termos de eficiência e capacidade de generalização do agente para problemas mais complexos.\n",
        "\n",
        "Este projeto também foi uma oportunidade para aplicar os conhecimentos adquiridos nas aulas, expandir competências de desenvolvimento e enfrentar novos desafios. O trabalho em equipa foi fundamental para o progresso e para o sucesso da iniciativa, destacando-se como um dos pilares centrais do projeto.\n",
        "\n",
        "Em suma, o projeto foi um marco significativo no desenvolvimento de competências técnicas e práticas, ao mesmo tempo que abriu caminhos para aperfeiçoamentos e aplicações futuras em cenários mais amplos e desafiadores.\n",
        "\n",
        "###**Melhorias futuras**\n",
        "Para melhorais futuras pensamos implementar otimizações no algoritmo para lidar melhor com problemas de maior escala. Adicionar suporte para restrições fracas para explorar soluções mais flexíveis e avaliar o impacto de diferentes heurísticas no desempenho geral.\n",
        "\n",
        " 20 de novembro de 2024\n",
        "\n",
        "Fábio Miranda, Daniela Pereira e Gonçalo Costa"
      ]
    }
  ],
  "metadata": {
    "colab": {
      "provenance": [],
      "toc_visible": true
    },
    "kernelspec": {
      "display_name": "Python 3",
      "name": "python3"
    },
    "language_info": {
      "name": "python"
    }
  },
  "nbformat": 4,
  "nbformat_minor": 0
}